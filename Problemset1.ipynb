{
 "cells": [
  {
   "cell_type": "markdown",
   "id": "6689d193",
   "metadata": {},
   "source": [
    "Question 1 C#\n",
    "What data type is each of the following?"
   ]
  },
  {
   "cell_type": "markdown",
   "id": "8d9b49eb",
   "metadata": {},
   "source": [
    "        int myNum = 5;\n",
    "        double myDoubleNum = 5.0;\n",
    "        bool greaterThan = 5 > 1;\n",
    "        char myChar = '5';\n",
    "        int multiply = 5 * 2;\n",
    "        int divide = 5 / 2;\n",
    "        int num1 = 5;\n",
    "        int num2 = 2;\n",
    "        int[] numbersArray = { 5, 2, 1 };\n",
    "        bool isEqual = 5 == 3;\n",
    "        double piValue = Math.PI;"
   ]
  },
  {
   "cell_type": "markdown",
   "id": "48b9e189",
   "metadata": {},
   "source": [
    "Question 2 C#\n",
    "Write (and evaluate) C# expressions that answer these questions"
   ]
  },
  {
   "cell_type": "markdown",
   "id": "0bb5686d",
   "metadata": {},
   "source": [
    "a. How many letters are there in 'Supercalifragilisticexpialidocious'?"
   ]
  },
  {
   "cell_type": "markdown",
   "id": "27150ffa",
   "metadata": {},
   "source": [
    "        string word = \"Supercalifragilisticexpialidocious\";\n",
    "        int characterCount = word.Length;\n",
    "\n",
    "        Console.WriteLine(\"The number of characters in the word is: \" + characterCount);"
   ]
  },
  {
   "cell_type": "markdown",
   "id": "5a5827a1",
   "metadata": {},
   "source": [
    "b. Does 'Supercalifragilisticexpialidocious' contain 'ice' as a substring?"
   ]
  },
  {
   "cell_type": "markdown",
   "id": "8f40fcbc",
   "metadata": {},
   "source": [
    "        string word = \"Supercalifragilisticexpialidocious\";\n",
    "        bool containsIce = word.Contains(\"ice\");\n",
    "\n",
    "        Console.WriteLine(\"The word contains 'ice': \" + containsIce"
   ]
  },
  {
   "cell_type": "markdown",
   "id": "8745f925",
   "metadata": {},
   "source": [
    "c. Which of the following words is the longest:\n",
    "Supercalifragilisticexpialidocious, Honorificabilitudinitatibus, or\n",
    "Bababadalgharaghtakamminarronnkonn?"
   ]
  },
  {
   "cell_type": "markdown",
   "id": "592c6415",
   "metadata": {},
   "source": [
    "using System;\n",
    "\n",
    "public class Program\n",
    "{\n",
    "    public static void Main()\n",
    "    {\n",
    "        string word1 = \"Supercalifragilisticexpialidocious\";\n",
    "        string word2 = \"Honorificabilitudinitatibus\";\n",
    "        string word3 = \"Bababadalgharaghtakamminarronnkonn\";\n",
    "\n",
    "        string longestWord = GetLongestWord(word1, word2, word3);\n",
    "\n",
    "        Console.WriteLine(\"The longest word is: \" + longestWord);\n",
    "    }\n",
    "\n",
    "    public static string GetLongestWord(params string[] words)\n",
    "    {\n",
    "        string longestWord = \"\";\n",
    "\n",
    "        foreach (string word in words)\n",
    "        {\n",
    "            if (word.Length > longestWord.Length)\n",
    "            {\n",
    "                longestWord = word;\n",
    "            }\n",
    "        }\n",
    "\n",
    "        return longestWord;\n",
    "    }\n",
    "}\n"
   ]
  },
  {
   "cell_type": "markdown",
   "id": "37e57932",
   "metadata": {},
   "source": [
    "Which composer comes first in the dictionary: 'Berlioz', 'Borodin', 'Brian',\n",
    "'Bartok', 'Bellini', 'Buxtehude', 'Bernstein'. Which one comes last?"
   ]
  },
  {
   "cell_type": "markdown",
   "id": "e24aed98",
   "metadata": {},
   "source": [
    "using System;\n",
    "\n",
    "public class Program\n",
    "{\n",
    "    public static void Main()\n",
    "    {\n",
    "        string[] composers = { \"Berlioz\", \"Borodin\", \"Brian\", \"Bartok\", \"Bellini\", \"Buxtehude\", \"Bernstein\" };\n",
    "\n",
    "        Array.Sort(composers);\n",
    "\n",
    "        string firstComposer = composers[0];\n",
    "        string lastComposer = composers[composers.Length - 1];\n",
    "\n",
    "        Console.WriteLine(\"First composer: \" + firstComposer);\n",
    "        Console.WriteLine(\"Last composer: \" + lastComposer);\n",
    "    }\n",
    "}\n"
   ]
  },
  {
   "cell_type": "markdown",
   "id": "07e715e3",
   "metadata": {},
   "source": [
    "Question 3 C#\n",
    "Implement function triangleArea(a,b,c) that takes as input the lengths of the 3\n",
    "sides of a triangle and returns the area of the triangle. By Heron's formula, the area\n",
    "of a triangle with side lengths a, b, and c is\n",
    "s(s - a)(s -b)(s -c), where\n",
    "s = (a +b + c) /2."
   ]
  },
  {
   "cell_type": "markdown",
   "id": "2c86fd63",
   "metadata": {},
   "source": [
    "using System;\n",
    "\n",
    "public class Program\n",
    "{\n",
    "    public static void Main(string[] args)\n",
    "    {\n",
    "        double area = TriangleArea(2, 2, 2);\n",
    "        Console.WriteLine(area);\n",
    "    }\n",
    "\n",
    "    public static double TriangleArea(double a, double b, double c)\n",
    "    {\n",
    "        double s = (a + b + c) / 2;\n",
    "        double area = Math.Sqrt(s * (s - a) * (s - b) * (s - c));\n",
    "        return area;\n",
    "    }\n",
    "}\n"
   ]
  },
  {
   "cell_type": "markdown",
   "id": "ee821211",
   "metadata": {},
   "source": [
    "Question 4 C#\n",
    "Write a program in C# Sharp to separate odd and even integers in separate arrays."
   ]
  },
  {
   "cell_type": "markdown",
   "id": "1098bc03",
   "metadata": {},
   "source": [
    "using System;\n",
    "\n",
    "public class Program\n",
    "{\n",
    "    public static void Main()\n",
    "    {\n",
    "        int[] inputArray = { 25, 47, 42, 56, 32 };\n",
    "\n",
    "        int[] evenArray = new int[inputArray.Length];\n",
    "        int[] oddArray = new int[inputArray.Length];\n",
    "        int evenCount = 0;\n",
    "        int oddCount = 0;\n",
    "\n",
    "        foreach (int num in inputArray)\n",
    "        {\n",
    "            if (num % 2 == 0)\n",
    "            {\n",
    "                evenArray[evenCount] = num;\n",
    "                evenCount++;\n",
    "            }\n",
    "            else\n",
    "            {\n",
    "                oddArray[oddCount] = num;\n",
    "                oddCount++;\n",
    "            }\n",
    "        }\n",
    "\n",
    "        Console.WriteLine(\"The Even elements are:\");\n",
    "        for (int i = 0; i < evenCount; i++)\n",
    "        {\n",
    "            Console.Write(evenArray[i] + \" \");\n",
    "        }\n",
    "\n",
    "        Console.WriteLine(\"\\nThe Odd elements are:\");\n",
    "        for (int i = 0; i < oddCount; i++)\n",
    "        {\n",
    "            Console.Write(oddArray[i] + \" \");\n",
    "        }\n",
    "    }\n",
    "}\n"
   ]
  },
  {
   "cell_type": "markdown",
   "id": "81903612",
   "metadata": {},
   "source": [
    "Question 5 C#\n",
    "a. Write a function inside(x,y,x1,y1,x2,y2) that returns True or False depending on whether the point (x,y) lies in the rectangle with lower left corner (x1,y1) and upper right corner (x2,y2)."
   ]
  },
  {
   "cell_type": "markdown",
   "id": "b858444f",
   "metadata": {},
   "source": [
    "using System;\n",
    "\n",
    "public class Program\n",
    "{\n",
    "    public static bool Inside(int x, int y, int x1, int y1, int x2, int y2)\n",
    "    {\n",
    "        if (x >= x1 && x <= x2 && y >= y1 && y <= y2)\n",
    "        {\n",
    "            return true;\n",
    "        }\n",
    "        else\n",
    "        {\n",
    "            return false;\n",
    "        }\n",
    "    }\n",
    "\n",
    "    public static void Main()\n",
    "    {\n",
    "        int x = 2;\n",
    "        int y = 3;\n",
    "        int x1 = 1;\n",
    "        int y1 = 1;\n",
    "        int x2 = 5;\n",
    "        int y2 = 4;\n",
    "\n",
    "        bool isInside = Inside(x, y, x1, y1, x2, y2);\n",
    "        Console.WriteLine(isInside);\n",
    "    }\n",
    "}\n"
   ]
  },
  {
   "cell_type": "markdown",
   "id": "d2d58678",
   "metadata": {},
   "source": [
    "Question 6 Python"
   ]
  },
  {
   "cell_type": "code",
   "execution_count": 3,
   "id": "03409ca3",
   "metadata": {},
   "outputs": [
    {
     "ename": "IndentationError",
     "evalue": "unexpected indent (1268004130.py, line 2)",
     "output_type": "error",
     "traceback": [
      "\u001b[1;36m  Cell \u001b[1;32mIn[3], line 2\u001b[1;36m\u001b[0m\n\u001b[1;33m    vowels = ['a', 'e', 'i', 'o', 'u']\u001b[0m\n\u001b[1;37m    ^\u001b[0m\n\u001b[1;31mIndentationError\u001b[0m\u001b[1;31m:\u001b[0m unexpected indent\n"
     ]
    }
   ],
   "source": [
    "def pig(word):\n",
    "    vowels = ['a', 'e', 'i', 'o', 'u']\n",
    "    word = word.lower()  # Convert word to lowercase\n",
    "\n",
    "    if word[0] in vowels:\n",
    "        return word + 'way'\n",
    "    else:\n",
    "        return word[1:] + word[0] + 'ay'"
   ]
  },
  {
   "cell_type": "markdown",
   "id": "3fc5db45",
   "metadata": {},
   "source": [
    "Question 7 Python\n",
    "File bloodtype1.txt records blood-types of patients (A, B, AB, O or OO) at a clinic. Write a function bldcount() that reads the file with name name and reports (i.e., prints) how many patients there are in each bloodtype."
   ]
  },
  {
   "cell_type": "code",
   "execution_count": 8,
   "id": "23d0707a",
   "metadata": {},
   "outputs": [
    {
     "name": "stdout",
     "output_type": "stream",
     "text": [
      "Word 'AB' occurs: 13 times.\n",
      "Word 'B' occurs: 1 times.\n",
      "Word 'O' occurs: 15 times.\n",
      "Word 'A' occurs: 15 times.\n"
     ]
    }
   ],
   "source": [
    "file1 = open(r'C:\\Georgian College Canada\\Summer 2023\\BDAT 1004 Data Programming\\3.Assignments\\Problem set 1\\bloodtype1.txt', 'r')\n",
    "data = file1.read()\n",
    "file1.close()\n",
    "\n",
    "word_list = data.split()\n",
    "word_count = {}\n",
    "\n",
    "for word in word_list:\n",
    "    if word in word_count:\n",
    "        word_count[word] += 1\n",
    "    else:\n",
    "        word_count[word] = 1\n",
    "\n",
    "# Print the word count\n",
    "for word, count in word_count.items():\n",
    "    print(f\"Word '{word}' occurs: {count} times.\")"
   ]
  },
  {
   "cell_type": "markdown",
   "id": "87468f48",
   "metadata": {},
   "source": [
    "Question 8 Python\n",
    "Write a function curconv() that takes as input:"
   ]
  },
  {
   "cell_type": "code",
   "execution_count": 10,
   "id": "5e7d72eb",
   "metadata": {},
   "outputs": [],
   "source": [
    "file1 = open(r'C:\\Georgian College Canada\\Summer 2023\\BDAT 1004 Data Programming\\3.Assignments\\Problem set 1\\currencies.txt', 'r')\n",
    "data = file1.read()\n",
    "file1.close()\n",
    "def curconv(currency, amount):\n",
    "    try:\n",
    "        with open('currencies.txt', 'r') as file:\n",
    "            for line in file:\n",
    "                parts = line.split()\n",
    "                if len(parts) == 2 and parts[0] == currency:\n",
    "                    exchange_rate = float(parts[1])\n",
    "                    return exchange_rate * amount\n",
    "\n",
    "        print(f\"Currency '{currency}' not found in the exchange rate file.\")\n",
    "    except FileNotFoundError:\n",
    "        print(\"Exchange rate file not found.\")\n"
   ]
  },
  {
   "cell_type": "code",
   "execution_count": null,
   "id": "5634450f",
   "metadata": {},
   "outputs": [],
   "source": []
  }
 ],
 "metadata": {
  "kernelspec": {
   "display_name": "Python 3 (ipykernel)",
   "language": "python",
   "name": "python3"
  },
  "language_info": {
   "codemirror_mode": {
    "name": "ipython",
    "version": 3
   },
   "file_extension": ".py",
   "mimetype": "text/x-python",
   "name": "python",
   "nbconvert_exporter": "python",
   "pygments_lexer": "ipython3",
   "version": "3.10.7"
  }
 },
 "nbformat": 4,
 "nbformat_minor": 5
}
